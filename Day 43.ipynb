{
 "cells": [
  {
   "cell_type": "code",
   "execution_count": 5,
   "metadata": {},
   "outputs": [
    {
     "name": "stdout",
     "output_type": "stream",
     "text": [
      "Requirement already satisfied: selenium in c:\\users\\prathyu lachireddy\\anaconda3\\lib\\site-packages (3.141.0)\n",
      "Requirement already satisfied: urllib3 in c:\\users\\prathyu lachireddy\\anaconda3\\lib\\site-packages (from selenium) (1.25.11)\n"
     ]
    },
    {
     "name": "stderr",
     "output_type": "stream",
     "text": [
      "\n",
      "\n",
      "====== WebDriver manager ======\n",
      "Current google-chrome version is 90.0.4430\n",
      "Get LATEST driver version for 90.0.4430\n"
     ]
    },
    {
     "name": "stdout",
     "output_type": "stream",
     "text": [
      "Requirement already satisfied: webdriver-manager in c:\\users\\prathyu lachireddy\\anaconda3\\lib\\site-packages (3.4.1)\n",
      "Requirement already satisfied: requests in c:\\users\\prathyu lachireddy\\anaconda3\\lib\\site-packages (from webdriver-manager) (2.24.0)\n",
      "Requirement already satisfied: crayons in c:\\users\\prathyu lachireddy\\anaconda3\\lib\\site-packages (from webdriver-manager) (0.4.0)\n",
      "Requirement already satisfied: configparser in c:\\users\\prathyu lachireddy\\anaconda3\\lib\\site-packages (from webdriver-manager) (5.0.2)\n",
      "Requirement already satisfied: idna<3,>=2.5 in c:\\users\\prathyu lachireddy\\anaconda3\\lib\\site-packages (from requests->webdriver-manager) (2.10)\n",
      "Requirement already satisfied: certifi>=2017.4.17 in c:\\users\\prathyu lachireddy\\anaconda3\\lib\\site-packages (from requests->webdriver-manager) (2020.6.20)\n",
      "Requirement already satisfied: urllib3!=1.25.0,!=1.25.1,<1.26,>=1.21.1 in c:\\users\\prathyu lachireddy\\anaconda3\\lib\\site-packages (from requests->webdriver-manager) (1.25.11)\n",
      "Requirement already satisfied: chardet<4,>=3.0.2 in c:\\users\\prathyu lachireddy\\anaconda3\\lib\\site-packages (from requests->webdriver-manager) (3.0.4)\n",
      "Requirement already satisfied: colorama in c:\\users\\prathyu lachireddy\\anaconda3\\lib\\site-packages (from crayons->webdriver-manager) (0.4.4)\n"
     ]
    },
    {
     "name": "stderr",
     "output_type": "stream",
     "text": [
      "Driver [C:\\Users\\Prathyu Lachireddy\\.wdm\\drivers\\chromedriver\\win32\\90.0.4430.24\\chromedriver.exe] found in cache\n"
     ]
    }
   ],
   "source": [
    "import os\n",
    "!pip install selenium\n",
    "import selenium\n",
    "!pip install webdriver-manager\n",
    "from selenium import webdriver\n",
    "from webdriver_manager.chrome import ChromeDriverManager\n",
    "driver = webdriver.Chrome(ChromeDriverManager().install())"
   ]
  },
  {
   "cell_type": "code",
   "execution_count": 6,
   "metadata": {},
   "outputs": [],
   "source": [
    "#don't close the window that comes\n",
    "search_url=\"https://www.google.com/search?q=shoes&rlz=1C1CHBF_enIN861IN861&oq=shoes&aqs=chrome..69i57j0i433l2j0i20i263i433j0i20i263j0i433l2j69i61.1917j0j9&sourceid=chrome&ie=UTF-8\"\n",
    "driver.get(search_url.format())"
   ]
  },
  {
   "cell_type": "code",
   "execution_count": null,
   "metadata": {},
   "outputs": [],
   "source": []
  }
 ],
 "metadata": {
  "kernelspec": {
   "display_name": "Python 3",
   "language": "python",
   "name": "python3"
  },
  "language_info": {
   "codemirror_mode": {
    "name": "ipython",
    "version": 3
   },
   "file_extension": ".py",
   "mimetype": "text/x-python",
   "name": "python",
   "nbconvert_exporter": "python",
   "pygments_lexer": "ipython3",
   "version": "3.8.5"
  }
 },
 "nbformat": 4,
 "nbformat_minor": 4
}
